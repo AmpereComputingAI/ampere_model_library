{
 "cells": [
  {
   "cell_type": "code",
   "execution_count": 1,
   "id": "closing-small",
   "metadata": {},
   "outputs": [
    {
     "name": "stdout",
     "output_type": "stream",
     "text": [
      "hello world\n"
     ]
    }
   ],
   "source": [
    "print(\"hello world\")"
   ]
  },
  {
   "cell_type": "code",
   "execution_count": 66,
   "id": "falling-investing",
   "metadata": {},
   "outputs": [
    {
     "name": "stdout",
     "output_type": "stream",
     "text": [
      "0\n",
      "1\n",
      "2\n"
     ]
    }
   ],
   "source": [
    "for n in range(3):\n",
    "    print(n)"
   ]
  },
  {
   "cell_type": "code",
   "execution_count": 108,
   "id": "defined-contact",
   "metadata": {},
   "outputs": [],
   "source": [
    "# file responsible for imagenet \n",
    "\n",
    "import sys\n",
    "import os.path\n",
    "from os import path\n",
    "import time, argparse\n",
    "import tensorflow as tf\n",
    "import numpy as np\n",
    "import cv2\n",
    "import math\n",
    "from tensorflow.keras.preprocessing import image\n",
    "\n",
    "class ImageNet:\n",
    "    \n",
    "    \n",
    "# zmienna którą da się ustawić inicjalizując imageNet\n",
    "\n",
    "# self.images_path = 'images/ILSVRC2012_img_val' <- wrzucić w zmienną środowiskową os.environ\n",
    "\n",
    "# yield zamiast 'return'\n",
    "    \n",
    "    def __init__(self):\n",
    "        \n",
    "        self.images_path = 'images/ILSVRC2012_img_val'\n",
    "        self.image = 'ILSVRC2012_val_00000000'\n",
    "        self.number_of_images = 50000\n",
    "        self.image_count = 0\n",
    "        \n",
    "        if not path.exists(self.images_path):\n",
    "            sys.exit(1)\n",
    "        else:\n",
    "            print('works')\n",
    "    \n",
    "    def get_input_tensor(self, batch_size, input_shape, preprocess):\n",
    "        final_image = np.empty(0)\n",
    "        \n",
    "        print(final_image)\n",
    "        print(final_image.shape)\n",
    "        print(self.number_of_images/batch_size)\n",
    "        \n",
    "        while self.image_count < self.number_of_images :\n",
    "            for image_n in range(1, batch_size):\n",
    "                self.image_count += 1\n",
    "\n",
    "                digits = int(math.log10(image_n))+1\n",
    "\n",
    "                path_to_image = os.path.join(self.images_path, self.image[:-digits] + str(image_n) + '.JPEG')\n",
    "\n",
    "                img = cv2.imread(path_to_image)\n",
    "                resized_image_n = cv2.resize(img, input_shape)\n",
    "                print(resized_image_n.shape)\n",
    "                image_n = preprocess(resized_image_n)\n",
    "                print(image_n.shape)\n",
    "                final_image.append(image_n)\n",
    "\n",
    "        print(type(final_image))\n",
    "        print('hehe')\n",
    "\n",
    "        "
   ]
  },
  {
   "cell_type": "code",
   "execution_count": 109,
   "id": "extended-kruger",
   "metadata": {},
   "outputs": [
    {
     "name": "stdout",
     "output_type": "stream",
     "text": [
      "works\n"
     ]
    },
    {
     "data": {
      "text/plain": [
       "<__main__.ImageNet at 0x7fd962b99c50>"
      ]
     },
     "execution_count": 109,
     "metadata": {},
     "output_type": "execute_result"
    }
   ],
   "source": [
    "ImageNet()"
   ]
  },
  {
   "cell_type": "code",
   "execution_count": 110,
   "id": "wired-teens",
   "metadata": {},
   "outputs": [
    {
     "name": "stdout",
     "output_type": "stream",
     "text": [
      "works\n",
      "[]\n",
      "(0,)\n",
      "1562.5\n",
      "(224, 224, 3)\n",
      "(224, 224, 3)\n"
     ]
    },
    {
     "ename": "AttributeError",
     "evalue": "'numpy.ndarray' object has no attribute 'append'",
     "output_type": "error",
     "traceback": [
      "\u001b[0;31m---------------------------------------------------------------------------\u001b[0m",
      "\u001b[0;31mAttributeError\u001b[0m                            Traceback (most recent call last)",
      "\u001b[0;32m<ipython-input-110-34737e5b4d16>\u001b[0m in \u001b[0;36m<module>\u001b[0;34m\u001b[0m\n\u001b[1;32m      9\u001b[0m \u001b[0;34m\u001b[0m\u001b[0m\n\u001b[1;32m     10\u001b[0m \u001b[0mimage_net\u001b[0m \u001b[0;34m=\u001b[0m \u001b[0mImageNet\u001b[0m\u001b[0;34m(\u001b[0m\u001b[0;34m)\u001b[0m\u001b[0;34m\u001b[0m\u001b[0;34m\u001b[0m\u001b[0m\n\u001b[0;32m---> 11\u001b[0;31m \u001b[0mpreprocessed_image\u001b[0m \u001b[0;34m=\u001b[0m \u001b[0mimage_net\u001b[0m\u001b[0;34m.\u001b[0m\u001b[0mget_input_tensor\u001b[0m\u001b[0;34m(\u001b[0m\u001b[0;36m32\u001b[0m\u001b[0;34m,\u001b[0m \u001b[0;34m(\u001b[0m\u001b[0;36m224\u001b[0m\u001b[0;34m,\u001b[0m\u001b[0;36m224\u001b[0m\u001b[0;34m)\u001b[0m\u001b[0;34m,\u001b[0m \u001b[0mpre_process_vgg\u001b[0m\u001b[0;34m)\u001b[0m\u001b[0;34m\u001b[0m\u001b[0;34m\u001b[0m\u001b[0m\n\u001b[0m\u001b[1;32m     12\u001b[0m \u001b[0;34m\u001b[0m\u001b[0m\n\u001b[1;32m     13\u001b[0m \u001b[0mstart\u001b[0m \u001b[0;34m=\u001b[0m \u001b[0mtime\u001b[0m\u001b[0;34m.\u001b[0m\u001b[0mtime\u001b[0m\u001b[0;34m(\u001b[0m\u001b[0;34m)\u001b[0m\u001b[0;34m\u001b[0m\u001b[0;34m\u001b[0m\u001b[0m\n",
      "\u001b[0;32m<ipython-input-108-bdc7d15e68e6>\u001b[0m in \u001b[0;36mget_input_tensor\u001b[0;34m(self, batch_size, input_shape, preprocess)\u001b[0m\n\u001b[1;32m     47\u001b[0m                 \u001b[0mimage_n\u001b[0m \u001b[0;34m=\u001b[0m \u001b[0mpreprocess\u001b[0m\u001b[0;34m(\u001b[0m\u001b[0mresized_image_n\u001b[0m\u001b[0;34m)\u001b[0m\u001b[0;34m\u001b[0m\u001b[0;34m\u001b[0m\u001b[0m\n\u001b[1;32m     48\u001b[0m                 \u001b[0mprint\u001b[0m\u001b[0;34m(\u001b[0m\u001b[0mimage_n\u001b[0m\u001b[0;34m.\u001b[0m\u001b[0mshape\u001b[0m\u001b[0;34m)\u001b[0m\u001b[0;34m\u001b[0m\u001b[0;34m\u001b[0m\u001b[0m\n\u001b[0;32m---> 49\u001b[0;31m                 \u001b[0mfinal_image\u001b[0m\u001b[0;34m.\u001b[0m\u001b[0mappend\u001b[0m\u001b[0;34m(\u001b[0m\u001b[0mimage_n\u001b[0m\u001b[0;34m)\u001b[0m\u001b[0;34m\u001b[0m\u001b[0;34m\u001b[0m\u001b[0m\n\u001b[0m\u001b[1;32m     50\u001b[0m \u001b[0;34m\u001b[0m\u001b[0m\n\u001b[1;32m     51\u001b[0m         \u001b[0mprint\u001b[0m\u001b[0;34m(\u001b[0m\u001b[0mtype\u001b[0m\u001b[0;34m(\u001b[0m\u001b[0mfinal_image\u001b[0m\u001b[0;34m)\u001b[0m\u001b[0;34m)\u001b[0m\u001b[0;34m\u001b[0m\u001b[0;34m\u001b[0m\u001b[0m\n",
      "\u001b[0;31mAttributeError\u001b[0m: 'numpy.ndarray' object has no attribute 'append'"
     ]
    }
   ],
   "source": [
    "# File responsible for RESNET\n",
    "frozen_model_dir = \"models/resnet50_v1.5_fp32.pb\"\n",
    "\n",
    "\n",
    "graph = load_graph(frozen_model_dir)\n",
    "input_tensor = graph.get_tensor_by_name(\"input_tensor:0\")\n",
    "output_tensor = graph.get_tensor_by_name(\"softmax_tensor:0\")\n",
    "sess = tf.compat.v1.Session(graph=graph)\n",
    "\n",
    "image_net = ImageNet()\n",
    "preprocessed_image = image_net.get_input_tensor(32, (224,224), pre_process_vgg)\n",
    "\n",
    "start = time.time()\n",
    "result = sess.run(output_tensor, feed_dict={input_tensor: preprocessed_image})\n",
    "end = time.time()\n",
    "total_time += (end - start)"
   ]
  },
  {
   "cell_type": "code",
   "execution_count": 25,
   "id": "breeding-source",
   "metadata": {},
   "outputs": [],
   "source": [
    "\n",
    "# file for graph loading \n",
    "\n",
    "def load_graph(frozen_model_dir):\n",
    "\n",
    "    frozen_graph = frozen_model_dir\n",
    "\n",
    "    with tf.io.gfile.GFile(frozen_graph, \"rb\") as f:\n",
    "        graph_def = tf.compat.v1.GraphDef()\n",
    "        graph_def.ParseFromString(f.read())\n",
    "\n",
    "    with tf.Graph().as_default() as graph:\n",
    "        tf.import_graph_def(graph_def, name=\"\")\n",
    "        \n",
    "    return graph"
   ]
  },
  {
   "cell_type": "code",
   "execution_count": 98,
   "id": "damaged-schema",
   "metadata": {},
   "outputs": [],
   "source": [
    "\n",
    "# File for resnet preprocessing\n",
    "\n",
    "def pre_process_vgg(image_sample):\n",
    "\n",
    "#     img = image.load_img(image_sample, target_size = (224,224)) \n",
    "#     img_array = image.img_to_array(img)\n",
    "#     img_array_expanded_dims = np.expand_dims(img_array, axis=0)\n",
    "    result = tf.keras.applications.resnet.preprocess_input(image_sample)\n",
    "        \n",
    "    return result"
   ]
  },
  {
   "cell_type": "code",
   "execution_count": null,
   "id": "controlled-junction",
   "metadata": {},
   "outputs": [],
   "source": []
  }
 ],
 "metadata": {
  "kernelspec": {
   "display_name": "onspecta",
   "language": "python",
   "name": "onspecta"
  },
  "language_info": {
   "codemirror_mode": {
    "name": "ipython",
    "version": 3
   },
   "file_extension": ".py",
   "mimetype": "text/x-python",
   "name": "python",
   "nbconvert_exporter": "python",
   "pygments_lexer": "ipython3",
   "version": "3.7.9"
  }
 },
 "nbformat": 4,
 "nbformat_minor": 5
}
