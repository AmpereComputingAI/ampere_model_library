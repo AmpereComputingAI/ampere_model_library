{
 "cells": [
  {
   "cell_type": "markdown",
   "source": [
    "# Classification Examples\n",
    "\n",
    "&nbsp;\n",
    "\n",
    "<img align=\"center\" src=\"https://media-exp1.licdn.com/dms/image/C4E1BAQFay3CGU2VmRg/company-background_10000/0/1621019049425?e=2159024400&v=beta&t=dmPCWeJlWvkzmM019V4_oKMluIPkQPX52i0zdgP-x2M\" alt=\"nn\" style=\"width: 1200px;\"/>\n",
    "\n",
    "<img align=\"left\" src=\"https://media-exp1.licdn.com/dms/image/C4E0BAQHJY2WpOb492w/company-logo_200_200/0/1620816916063?e=2159024400&v=beta&t=U-VvNpjzV2DLp4EBIeqI8ZIWYUekPeJOQyxfXaJBMnU\" alt=\"nn\" style=\"width: 25px;\"/>\n",
    "\n",
    "&nbsp;&nbsp;Please visit us at https://onspecta.com\n",
    "\n",
    "&nbsp;\n",
    "\n",
    "## ImageNet Dataset Overview\n",
    "<img align=\"left\" src=\"https://www.image-net.org/static_files/index_files/logo.jpg\" alt=\"nn\" style=\"width: 200px;\"/>\n",
    "\n",
    "&nbsp;\n",
    "\n",
    "These examples are using subset of ImageNet classification validation set from year 2012.\n",
    "ImageNet is a large-scale classification dataset that has been instrumental in advancing computer vision and deep learning research.\n",
    "\n",
    "More info can be found here: https://image-net.org/\n",
    "\n",
    "&nbsp;"
   ],
   "metadata": {
    "collapsed": false
   }
  },
  {
   "cell_type": "code",
   "execution_count": null,
   "outputs": [],
   "source": [
    "import os\n",
    "import cv2\n",
    "import time\n",
    "import subprocess\n",
    "import numpy as np\n",
    "import tensorflow as tf\n",
    "from matplotlib import pyplot as plt\n",
    "\n",
    "from utils.imagenet import ImageNet\n",
    "import utils.post_processing as pp\n",
    "import utils.benchmark as bench_utils\n",
    "\n",
    "LAT_BATCH_SIZE = 1\n",
    "THROUGHPUT_BATCH_SIZE = 32"
   ],
   "metadata": {
    "collapsed": false,
    "pycharm": {
     "name": "#%%\n"
    }
   }
  },
  {
   "cell_type": "markdown",
   "source": [
    "## Latency with ResNet-50 v1.5 in fp32 precision\n",
    "\n",
    "DLS offers a significant speed-up in standard fp32 inference scenarios.\n",
    "This example shows the performance of ResNet-50 v1.5 model in fp32 precision.\n",
    "Original ResNet paper can be found here: https://arxiv.org/pdf/1512.03385.pdf"
   ],
   "metadata": {
    "collapsed": false
   }
  },
  {
   "cell_type": "code",
   "execution_count": null,
   "outputs": [],
   "source": [
    "input_shape = (224, 224)\n",
    "path_to_fp32_model = \"resnet_50_v15/resnet_50_v15_tf_fp32.pb\"\n",
    "path_to_fp16_model = \"resnet_50_v15/resnet_50_v15_tf_fp16.pb\""
   ],
   "metadata": {
    "collapsed": false,
    "pycharm": {
     "name": "#%%\n"
    }
   }
  },
  {
   "cell_type": "code",
   "execution_count": null,
   "outputs": [],
   "source": [
    "# first let's load the model\n",
    "\n",
    "graph = tf.compat.v1.Graph()\n",
    "with graph.as_default():\n",
    "    graph_def = tf.compat.v1.GraphDef()\n",
    "    with tf.compat.v1.gfile.GFile(path_to_fp32_model, 'rb') as fid:\n",
    "        serialized_graph = fid.read()\n",
    "        graph_def.ParseFromString(serialized_graph)\n",
    "        tf.compat.v1.import_graph_def(graph_def, name=\"\")"
   ],
   "metadata": {
    "collapsed": false,
    "pycharm": {
     "name": "#%%\n"
    }
   }
  },
  {
   "cell_type": "code",
   "execution_count": null,
   "outputs": [],
   "source": [
    "# ! DLS_NUM_THREADS should be set prior to launching jupyter notebook !\n",
    "\n",
    "# creating TF config\n",
    "config = tf.compat.v1.ConfigProto()\n",
    "config.allow_soft_placement = True\n",
    "config.intra_op_parallelism_threads = bench_utils.get_intra_op_parallelism_threads()\n",
    "config.inter_op_parallelism_threads = 1"
   ],
   "metadata": {
    "collapsed": false,
    "pycharm": {
     "name": "#%%\n"
    }
   }
  },
  {
   "cell_type": "code",
   "execution_count": null,
   "outputs": [],
   "source": [
    "# preparing input and output dictionaries\n",
    "\n",
    "# creation of output dictionary\n",
    "output_dict = {\"softmax_tensor:0\": graph.get_tensor_by_name(\"softmax_tensor:0\")}\n",
    "\n",
    "# initialization of ImageNet dataset\n",
    "imagenet = ImageNet(\n",
    "    batch_size=LAT_BATCH_SIZE,\n",
    "    color_model=\"RGB\",\n",
    "    pre_processing=\"VGG\",\n",
    "    is1001classes=True\n",
    ")\n",
    "\n",
    "input_array = imagenet.get_input_array(target_shape=input_shape)\n",
    "\n",
    "# assignment of input image to input tensor\n",
    "feed_dict = {graph.get_tensor_by_name(\"input_tensor:0\"): input_array}\n",
    "\n",
    "# for the purpose of visualizing results let's load the image without pre-processing\n",
    "img = cv2.imread(str(imagenet.path_to_latest_image))"
   ],
   "metadata": {
    "collapsed": false,
    "pycharm": {
     "name": "#%%\n"
    }
   }
  },
  {
   "cell_type": "code",
   "execution_count": null,
   "outputs": [],
   "source": [
    "# running the model with DLS enabled in fp32 precision\n",
    "\n",
    "tf.DLS.force_enable()\n",
    "\n",
    "with tf.compat.v1.Session(config=config, graph=graph) as sess:\n",
    "    # warm-up run\n",
    "    _ = sess.run(output_dict, feed_dict)\n",
    "\n",
    "    # actual run\n",
    "    start = time.time()\n",
    "    output_dls = sess.run(output_dict, feed_dict)[\"softmax_tensor:0\"]\n",
    "    finish = time.time()\n",
    "\n",
    "latency_ms = (finish - start) * 1000\n",
    "print(\"\\nResNet-50 v1.5 FP32 latency with DLS: {:.0f} ms\\n\".format(latency_ms))"
   ],
   "metadata": {
    "collapsed": false,
    "pycharm": {
     "name": "#%%\n"
    }
   }
  },
  {
   "cell_type": "code",
   "execution_count": null,
   "outputs": [],
   "source": [
    "# running the model with DLS disabled in fp32 precision\n",
    "\n",
    "tf.DLS.force_disable()\n",
    "\n",
    "with tf.compat.v1.Session(config=config, graph=graph) as sess:\n",
    "    # warm-up run\n",
    "    _ = sess.run(output_dict, feed_dict)\n",
    "\n",
    "    # actual run\n",
    "    start = time.time()\n",
    "    output_no_dls = sess.run(output_dict, feed_dict)[\"softmax_tensor:0\"]\n",
    "    finish = time.time()\n",
    "\n",
    "latency_ms = (finish - start) * 1000\n",
    "print(\"\\nResNet-50 v1.5 FP32 latency without DLS: {:.0f} ms\\n\".format(latency_ms))"
   ],
   "metadata": {
    "collapsed": false,
    "pycharm": {
     "name": "#%%\n"
    }
   }
  },
  {
   "cell_type": "code",
   "execution_count": null,
   "outputs": [],
   "source": [
    "# visualizing output\n",
    "\n",
    "# show the image\n",
    "plt.imshow(cv2.cvtColor(img, cv2.COLOR_BGR2RGB))\n",
    "plt.show()\n",
    "print(\"ResNet-50 v1.5 FP32 predictions with DLS enabled:\\n\")\n",
    "print(f\"Top-1 prediction: {pp.get_imagenet_names(imagenet.extract_top1(output_dls[0]) + 1)}\")\n",
    "print(f\"Top-5 predictions: {pp.get_imagenet_names(imagenet.extract_top5(output_dls[0]) + 1)}\")\n",
    "\n",
    "print(\"\\nResNet-50 v1.5 FP32 predictions with DLS disabled:\\n\")\n",
    "print(f\"Top-1 prediction: {pp.get_imagenet_names(imagenet.extract_top1(output_no_dls[0]) + 1)}\")\n",
    "print(f\"Top-5 predictions: {pp.get_imagenet_names(imagenet.extract_top5(output_no_dls[0]) + 1)}\")"
   ],
   "metadata": {
    "collapsed": false,
    "pycharm": {
     "name": "#%%\n"
    }
   }
  },
  {
   "cell_type": "markdown",
   "source": [
    "## Throughput (BS=32) with ResNet-50 v1.5"
   ],
   "metadata": {
    "collapsed": false
   }
  },
  {
   "cell_type": "code",
   "execution_count": null,
   "outputs": [],
   "source": [
    "# let's fill array of shape [32, 224, 224, 3] with our image\n",
    "\n",
    "input_array_bs32 = np.empty([THROUGHPUT_BATCH_SIZE, *input_shape, 3])  # NHWC order\n",
    "for i in range(THROUGHPUT_BATCH_SIZE):\n",
    "    input_array_bs32[i] = input_array"
   ],
   "metadata": {
    "collapsed": false,
    "pycharm": {
     "name": "#%%\n"
    }
   }
  },
  {
   "cell_type": "code",
   "execution_count": null,
   "outputs": [],
   "source": [
    "# let's start with fp32 non-dls case\n",
    "\n",
    "feed_dict = {graph.get_tensor_by_name(\"input_tensor:0\"): input_array_bs32}"
   ],
   "metadata": {
    "collapsed": false,
    "pycharm": {
     "name": "#%%\n"
    }
   }
  },
  {
   "cell_type": "code",
   "execution_count": null,
   "outputs": [],
   "source": [
    "# running the model with DLS disabled in fp32 precision\n",
    "\n",
    "tf.DLS.force_disable()\n",
    "\n",
    "with tf.compat.v1.Session(config=config, graph=graph) as sess:\n",
    "    # warm-up run\n",
    "    _ = sess.run(output_dict, feed_dict)\n",
    "\n",
    "    # actual run\n",
    "    start = time.time()\n",
    "    _ = sess.run(output_dict, feed_dict)[\"softmax_tensor:0\"]\n",
    "    finish = time.time()\n",
    "\n",
    "throughput_no_dls = THROUGHPUT_BATCH_SIZE / (finish - start)"
   ],
   "metadata": {
    "collapsed": false,
    "pycharm": {
     "name": "#%%\n"
    }
   }
  },
  {
   "cell_type": "code",
   "execution_count": null,
   "outputs": [],
   "source": [
    "# we have to load fp16 variant now\n",
    "\n",
    "graph = tf.compat.v1.Graph()\n",
    "with graph.as_default():\n",
    "    graph_def = tf.compat.v1.GraphDef()\n",
    "    with tf.compat.v1.gfile.GFile(path_to_fp16_model, 'rb') as fid:\n",
    "        serialized_graph = fid.read()\n",
    "        graph_def.ParseFromString(serialized_graph)\n",
    "        tf.compat.v1.import_graph_def(graph_def, name=\"\")"
   ],
   "metadata": {
    "collapsed": false,
    "pycharm": {
     "name": "#%%\n"
    }
   }
  },
  {
   "cell_type": "code",
   "execution_count": null,
   "outputs": [],
   "source": [
    "# preparing input and output dictionaries\n",
    "\n",
    "# creation of output dictionary\n",
    "output_dict = {\"softmax_tensor:0\": graph.get_tensor_by_name(\"softmax_tensor:0\")}\n",
    "\n",
    "# assignment of input image to input tensor\n",
    "feed_dict = {graph.get_tensor_by_name(\"input_tensor:0\"): input_array_bs32}"
   ],
   "metadata": {
    "collapsed": false,
    "pycharm": {
     "name": "#%%\n"
    }
   }
  },
  {
   "cell_type": "code",
   "execution_count": null,
   "outputs": [],
   "source": [
    "# running the model with DLS enabled in fp16 precision\n",
    "\n",
    "tf.DLS.force_enable()\n",
    "\n",
    "with tf.compat.v1.Session(config=config, graph=graph) as sess:\n",
    "    # warm-up run\n",
    "    _ = sess.run(output_dict, feed_dict)\n",
    "\n",
    "    # actual run\n",
    "    start = time.time()\n",
    "    _ = sess.run(output_dict, feed_dict)[\"softmax_tensor:0\"]\n",
    "    finish = time.time()\n",
    "\n",
    "throughput_dls = THROUGHPUT_BATCH_SIZE / (finish - start)\n",
    "print(\"\\nResNet-50 v1.5 FP32 throughput without DLS: {:.0f} fps\".format(throughput_no_dls))\n",
    "print(\"\\nResNet-50 v1.5 FP16 throughput with DLS: {:.0f} fps\".format(throughput_dls))"
   ],
   "metadata": {
    "collapsed": false,
    "pycharm": {
     "name": "#%%\n"
    }
   }
  },
  {
   "cell_type": "markdown",
   "source": [
    "## More examples can be run like this:"
   ],
   "metadata": {
    "collapsed": false,
    "pycharm": {
     "name": "#%% md\n"
    }
   }
  },
  {
   "cell_type": "code",
   "execution_count": null,
   "outputs": [],
   "source": [
    "print(\"numactl --cpunodebind=0 --membind=0 python3 /model_zoo/classification/densenet_169/run.py -m /model_zoo/classification/densenet_169/densenet_169_tflite_int8.tflite -p int8 --timeout=5\")\n",
    "process = subprocess.Popen([\"numactl\", \"--cpunodebind=0\", \"--membind=0\", \"python3\", \"/model_zoo/classification/densenet_169/run.py\", \"-m\", \"/model_zoo/classification/densenet_169/densenet_169_tflite_int8.tflite\", \"-p\", \"int8\", \"--timeout=5\"], stdout=subprocess.PIPE)\n",
    "stdout = process.communicate()[0]\n",
    "print(stdout.decode(\"utf-8\"))"
   ],
   "metadata": {
    "collapsed": false,
    "pycharm": {
     "name": "#%%\n"
    }
   }
  }
 ],
 "metadata": {
  "kernelspec": {
   "display_name": "Python 3",
   "language": "python",
   "name": "python3"
  },
  "language_info": {
   "codemirror_mode": {
    "name": "ipython",
    "version": 2
   },
   "file_extension": ".py",
   "mimetype": "text/x-python",
   "name": "python",
   "nbconvert_exporter": "python",
   "pygments_lexer": "ipython2",
   "version": "2.7.6"
  }
 },
 "nbformat": 4,
 "nbformat_minor": 0
}